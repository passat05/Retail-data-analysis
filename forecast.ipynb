{
 "cells": [
  {
   "cell_type": "code",
   "execution_count": 1,
   "metadata": {},
   "outputs": [],
   "source": [
    "import pickle\n",
    "import numpy as np\n",
    "import pandas as pd\n",
    "\n",
    "from flask import Flask, request, jsonify"
   ]
  },
  {
   "cell_type": "code",
   "execution_count": 2,
   "metadata": {},
   "outputs": [],
   "source": [
    "with open('scaler_forecast_model.bin', 'rb') as f_in:\n",
    "    scaler,_ = pickle.load(f_in)\n",
    "\n",
    "with open('scaler_forecast_model.bin', 'rb') as f_in:\n",
    "    _, model = pickle.load(f_in)"
   ]
  },
  {
   "cell_type": "code",
   "execution_count": 3,
   "metadata": {},
   "outputs": [],
   "source": [
    "app = Flask('get_forecast')"
   ]
  },
  {
   "cell_type": "code",
   "execution_count": null,
   "metadata": {},
   "outputs": [],
   "source": [
    "@app.route('/predict', methods=['POST'])\n",
    "def predict():\n",
    "    client = request.get_json()\n",
    "\n",
    "    nume_fts = list(client.keys())[:15]\n",
    "    client = pd.DataFrame([client])\n",
    "\n",
    "    client[nume_fts] = scaler.transform(client[nume_fts])\n",
    "    y_pred = model.predict(client)\n",
    "\n",
    "    result = {\n",
    "        'get_forecast': float(np.expm1(y_pred))\n",
    "    }\n",
    "\n",
    "    return jsonify(result)\n",
    "    \n",
    "if __name__ == '__main__':\n",
    "    app.run(debug=True, host='0.0.0.0', port=9696)"
   ]
  }
 ],
 "metadata": {
  "kernelspec": {
   "display_name": "Python 3",
   "language": "python",
   "name": "python3"
  },
  "language_info": {
   "codemirror_mode": {
    "name": "ipython",
    "version": 3
   },
   "file_extension": ".py",
   "mimetype": "text/x-python",
   "name": "python",
   "nbconvert_exporter": "python",
   "pygments_lexer": "ipython3",
   "version": "3.11.4"
  }
 },
 "nbformat": 4,
 "nbformat_minor": 2
}
